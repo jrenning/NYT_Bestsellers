{
 "cells": [
  {
   "cell_type": "code",
   "execution_count": null,
   "metadata": {},
   "outputs": [],
   "source": [
    "import requests \n",
    "import config\n"
   ]
  },
  {
   "cell_type": "markdown",
   "metadata": {},
   "source": [
    "## Setting Up the Functions"
   ]
  },
  {
   "cell_type": "code",
   "execution_count": null,
   "metadata": {},
   "outputs": [],
   "source": [
    "def print_response_list(response,response_keyword):\n",
    "    \"\"\"\n",
    "    prints a list from the API based on the url json response and the certain section wanted. \n",
    "    response = API response dictionaryr\n",
    "    response_keyword = section of results wanted \n",
    "    \"\"\"\n",
    "    \n",
    "    for i,_ in enumerate(response['results']):\n",
    "        print(f'{i+1}. {response1[\"results\"][i][response_keyword]}') \n",
    "\n",
    "def new_response_list(response,response_keyword):\n",
    "    \"\"\"\n",
    "    makes a new list from the API based on the wanted response type \n",
    "    response = API response dictionaryr\n",
    "    response_keyword = section of results wanted \n",
    "    \"\"\"\n",
    "    \n",
    "    result = []\n",
    "    for i,__ in enumerate(response['results']['books']):\n",
    "        result.append(response['results']['books'][i][response_keyword])\n",
    "    return result\n",
    "\n",
    "# prints out a formatted list, optional argument of list2\n",
    "def print_bulleted_list(list1,list2=None):\n",
    "    \"\"\"\n",
    "    prints out a formatted list with numbered bullets. list2 is an optional argument\n",
    "    \"\"\"\n",
    "    \n",
    "    for i,_ in enumerate(list1):\n",
    "        if list2 == None:\n",
    "            print(f'{i+1}. {list1[i]}')\n",
    "        else:\n",
    "            print(f'{i+1}. {list2[i]}: {list1[i]}')"
   ]
  },
  {
   "cell_type": "markdown",
   "metadata": {},
   "source": [
    "## Choosing the Bestseller List"
   ]
  },
  {
   "cell_type": "code",
   "execution_count": null,
   "metadata": {},
   "outputs": [],
   "source": [
    "# prints out lits of all of the NYT bestseller lists \n",
    "url = f'https://api.nytimes.com/svc/books/v3/lists/names.json?api-key={config.API_KEY}'\n",
    "response1 = requests.get(url).json()\n",
    "\n",
    "\n",
    "print_response_list(response1,'list_name_encoded')\n"
   ]
  },
  {
   "cell_type": "code",
   "execution_count": null,
   "metadata": {},
   "outputs": [],
   "source": [
    "# asks fro user input about what list to see \n",
    "# (use list in cell above)\n",
    "list_type = int(input('Input the desired NYT bestseller list')) or 3\n",
    "\n",
    "url2 = f'https://api.nytimes.com/svc/books/v3/lists/current/{response1[\"results\"][list_type][\"list_name_encoded\"]}.json?api-key={config.API_KEY}'"
   ]
  },
  {
   "cell_type": "code",
   "execution_count": null,
   "metadata": {},
   "outputs": [],
   "source": [
    "# request API data and sort the json data \n",
    "response2 = requests.get(url2).json()"
   ]
  },
  {
   "cell_type": "markdown",
   "metadata": {},
   "source": [
    "## Seeing Titles and Descriptions"
   ]
  },
  {
   "cell_type": "code",
   "execution_count": null,
   "metadata": {},
   "outputs": [],
   "source": [
    "# makes a list of the titles of all of the NYT bestsellers\n",
    "title_result = new_response_list(response2,'title')"
   ]
  },
  {
   "cell_type": "code",
   "execution_count": null,
   "metadata": {},
   "outputs": [],
   "source": [
    "# prints out the current bestsellers list along with the date it was retrived \n",
    "print(f'The New York Times {response1[\"results\"][list_type][\"list_name_encoded\"]} Bestseller List for {response2[\"last_modified\"][:10]}')\n",
    "print_bulleted_list(title_result)"
   ]
  },
  {
   "cell_type": "code",
   "execution_count": null,
   "metadata": {},
   "outputs": [],
   "source": [
    "# makes a list of all of the bestseller descriptions\n",
    "description_result = new_response_list(response2,'description')"
   ]
  },
  {
   "cell_type": "code",
   "execution_count": null,
   "metadata": {},
   "outputs": [],
   "source": [
    "# prints out descriptions\n",
    "print_bulleted_list(description_result)"
   ]
  },
  {
   "cell_type": "code",
   "execution_count": null,
   "metadata": {},
   "outputs": [],
   "source": [
    "# prints combined title and description list\n",
    "print_bulleted_list(description_result,title_result)"
   ]
  }
 ],
 "metadata": {
  "interpreter": {
   "hash": "8faa6ea501ae4a7f4716f01a51d4c4c2e8b9e7c8ca71cbd6d3eaa65d819afe32"
  },
  "kernelspec": {
   "display_name": "Python 3.9.6 64-bit ('env': venv)",
   "language": "python",
   "name": "python3"
  },
  "language_info": {
   "codemirror_mode": {
    "name": "ipython",
    "version": 3
   },
   "file_extension": ".py",
   "mimetype": "text/x-python",
   "name": "python",
   "nbconvert_exporter": "python",
   "pygments_lexer": "ipython3",
   "version": "3.9.6"
  },
  "orig_nbformat": 4
 },
 "nbformat": 4,
 "nbformat_minor": 2
}
