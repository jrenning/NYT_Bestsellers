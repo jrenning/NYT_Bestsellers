{
 "cells": [
  {
   "cell_type": "code",
   "execution_count": null,
   "metadata": {},
   "outputs": [],
   "source": [
    "import requests \n",
    "import config\n",
    "import json\n"
   ]
  },
  {
   "cell_type": "code",
   "execution_count": null,
   "metadata": {},
   "outputs": [],
   "source": [
    "# prints out lits of all of the NYT bestseller lists \n",
    "url = f'https://api.nytimes.com/svc/books/v3/lists/names.json?api-key={config.API_KEY}'\n",
    "response1 = requests.get(url).json()\n",
    "\n",
    "for i in range(len(response1['results'])):\n",
    "    print(f'{i+1}. {response1[\"results\"][i][\"list_name_encoded\"]}')\n",
    "\n"
   ]
  },
  {
   "cell_type": "code",
   "execution_count": null,
   "metadata": {},
   "outputs": [],
   "source": [
    "# url to the nyt API\n",
    "list_type = int(input('Input the desired NYT bestseller list')) or 3\n",
    "\n",
    "url2 = f'https://api.nytimes.com/svc/books/v3/lists/current/{response1[\"results\"][list_type][\"list_name_encoded\"]}.json?api-key={config.API_KEY}'"
   ]
  },
  {
   "cell_type": "code",
   "execution_count": null,
   "metadata": {},
   "outputs": [],
   "source": [
    "# request API data and sort the json data \n",
    "response2 = requests.get(url2).json()"
   ]
  },
  {
   "cell_type": "code",
   "execution_count": null,
   "metadata": {},
   "outputs": [],
   "source": [
    "# check that the data has been loaded as a dict \n",
    "print(type(response2))"
   ]
  },
  {
   "cell_type": "code",
   "execution_count": null,
   "metadata": {},
   "outputs": [],
   "source": [
    "# makes a list of the titles of all of the NYT bestsellers\n",
    "title_result = []\n",
    "\n",
    "for i in range(len(response2['results']['books'])):\n",
    "    title_result.append(response2['results']['books'][i]['title'])"
   ]
  },
  {
   "cell_type": "code",
   "execution_count": null,
   "metadata": {},
   "outputs": [],
   "source": [
    "# prints out the current bestsellers list along with the date it was retrived \n",
    "print(f'The New York Times {response1[\"results\"][i][\"list_name_encoded\"]} Bestseller List for {response2[\"last_modified\"][:10]}')\n",
    "for i in range(len(title_result)):\n",
    "    print(f'{i+1}. {title_result[i]}')"
   ]
  },
  {
   "cell_type": "code",
   "execution_count": null,
   "metadata": {},
   "outputs": [],
   "source": [
    "# makes a list of all of the bestseller descriptions\n",
    "description_result = []\n",
    "\n",
    "for i in range(len(response2['results']['books'])):\n",
    "    description_result.append(response2['results']['books'][i]['description'])"
   ]
  },
  {
   "cell_type": "code",
   "execution_count": null,
   "metadata": {},
   "outputs": [],
   "source": [
    "# prints out descriptions\n",
    "for i in range(len(description_result)):\n",
    "    print(f'{i+1}. {description_result[i]}')"
   ]
  },
  {
   "cell_type": "code",
   "execution_count": null,
   "metadata": {},
   "outputs": [],
   "source": [
    "# combined title and description output \n",
    "for i in range(len(description_result)):\n",
    "    print(f'{i+1}. {title_result[i]}: {description_result[i]}')"
   ]
  }
 ],
 "metadata": {
  "interpreter": {
   "hash": "8faa6ea501ae4a7f4716f01a51d4c4c2e8b9e7c8ca71cbd6d3eaa65d819afe32"
  },
  "kernelspec": {
   "display_name": "Python 3.9.6 64-bit ('env': venv)",
   "language": "python",
   "name": "python3"
  },
  "language_info": {
   "codemirror_mode": {
    "name": "ipython",
    "version": 3
   },
   "file_extension": ".py",
   "mimetype": "text/x-python",
   "name": "python",
   "nbconvert_exporter": "python",
   "pygments_lexer": "ipython3",
   "version": "3.9.6"
  },
  "orig_nbformat": 4
 },
 "nbformat": 4,
 "nbformat_minor": 2
}
